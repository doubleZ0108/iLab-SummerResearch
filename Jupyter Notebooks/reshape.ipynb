{
 "cells": [
  {
   "cell_type": "code",
   "execution_count": 1,
   "metadata": {},
   "outputs": [],
   "source": [
    "import numpy as np\n",
    "\n",
    "img = np.random.randint(0,100,(3,3,2))"
   ]
  },
  {
   "cell_type": "markdown",
   "metadata": {},
   "source": [
    "初始化img为(3,3,2)大小的三维向量"
   ]
  },
  {
   "cell_type": "code",
   "execution_count": 2,
   "metadata": {},
   "outputs": [
    {
     "name": "stdout",
     "output_type": "stream",
     "text": [
      "[[[ 4 87]\n",
      "  [92  5]\n",
      "  [83 53]]\n",
      "\n",
      " [[72 31]\n",
      "  [72 47]\n",
      "  [21 84]]\n",
      "\n",
      " [[53 27]\n",
      "  [32 96]\n",
      "  [39 33]]]\n"
     ]
    }
   ],
   "source": [
    "print(img)"
   ]
  },
  {
   "cell_type": "code",
   "execution_count": 4,
   "metadata": {},
   "outputs": [
    {
     "name": "stdout",
     "output_type": "stream",
     "text": [
      "(3, 3, 2)\n"
     ]
    }
   ],
   "source": [
    "print(img.shape)"
   ]
  },
  {
   "cell_type": "code",
   "execution_count": 5,
   "metadata": {},
   "outputs": [],
   "source": [
    "shaped_img = img.reshape(3*3*2,1)"
   ]
  },
  {
   "cell_type": "markdown",
   "metadata": {},
   "source": [
    "将其转化为列向量"
   ]
  },
  {
   "cell_type": "code",
   "execution_count": 6,
   "metadata": {},
   "outputs": [
    {
     "name": "stdout",
     "output_type": "stream",
     "text": [
      "after shape: \n",
      "[[ 4]\n",
      " [87]\n",
      " [92]\n",
      " [ 5]\n",
      " [83]\n",
      " [53]\n",
      " [72]\n",
      " [31]\n",
      " [72]\n",
      " [47]\n",
      " [21]\n",
      " [84]\n",
      " [53]\n",
      " [27]\n",
      " [32]\n",
      " [96]\n",
      " [39]\n",
      " [33]]\n"
     ]
    }
   ],
   "source": [
    "print('after shape: ')\n",
    "print(shaped_img)"
   ]
  },
  {
   "cell_type": "code",
   "execution_count": 7,
   "metadata": {},
   "outputs": [
    {
     "name": "stdout",
     "output_type": "stream",
     "text": [
      "(18, 1)\n"
     ]
    }
   ],
   "source": [
    "print(shaped_img.shape)"
   ]
  },
  {
   "cell_type": "markdown",
   "metadata": {},
   "source": [
    "-----\n",
    "另一种转化为列向量的方式"
   ]
  },
  {
   "cell_type": "code",
   "execution_count": 9,
   "metadata": {},
   "outputs": [],
   "source": [
    "shaped_img2 = img.reshape(-1,1)"
   ]
  },
  {
   "cell_type": "code",
   "execution_count": 10,
   "metadata": {},
   "outputs": [
    {
     "name": "stdout",
     "output_type": "stream",
     "text": [
      "second shape:\n",
      "[[ 4]\n",
      " [87]\n",
      " [92]\n",
      " [ 5]\n",
      " [83]\n",
      " [53]\n",
      " [72]\n",
      " [31]\n",
      " [72]\n",
      " [47]\n",
      " [21]\n",
      " [84]\n",
      " [53]\n",
      " [27]\n",
      " [32]\n",
      " [96]\n",
      " [39]\n",
      " [33]]\n",
      "(18, 1)\n"
     ]
    }
   ],
   "source": [
    "print('second shape:')\n",
    "print(shaped_img2)\n",
    "print(shaped_img2.shape)"
   ]
  }
 ],
 "metadata": {
  "kernelspec": {
   "display_name": "Python 3",
   "language": "python",
   "name": "python3"
  },
  "language_info": {
   "codemirror_mode": {
    "name": "ipython",
    "version": 3
   },
   "file_extension": ".py",
   "mimetype": "text/x-python",
   "name": "python",
   "nbconvert_exporter": "python",
   "pygments_lexer": "ipython3",
   "version": "3.7.4"
  },
  "toc": {
   "base_numbering": 1,
   "nav_menu": {},
   "number_sections": true,
   "sideBar": true,
   "skip_h1_title": false,
   "title_cell": "Table of Contents",
   "title_sidebar": "Contents",
   "toc_cell": false,
   "toc_position": {},
   "toc_section_display": true,
   "toc_window_display": false
  }
 },
 "nbformat": 4,
 "nbformat_minor": 2
}
